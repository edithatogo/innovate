{
 "cells": [
  {
   "cell_type": "markdown",
   "metadata": {},
   "source": [
    "# `innovate`: Basic Usage Examples"
   ]
  },
  {
   "cell_type": "markdown",
   "metadata": {},
   "source": [
    "This notebook provides a set of basic examples to demonstrate the core functionalities of the `innovate` library."
   ]
  },
  {
   "cell_type": "markdown",
   "metadata": {},
   "source": [
    "## 1. Fitting a Single Diffusion Model (Bass Model)"
   ]
  },
  {
   "cell_type": "code",
   "execution_count": null,
   "metadata": {},
   "outputs": [],
   "source": [
    "import numpy as np\n",
    "import pandas as pd\n",
    "import matplotlib.pyplot as plt\n",
    "from innovate.diffuse.bass import BassModel\n",
    "from innovate.fitters.scipy_fitter import ScipyFitter\n",
    "\n",
    "# Generate some synthetic data for the Bass model\n",
    "t_data = np.arange(1, 21)\n",
    "p, q, m = 0.03, 0.38, 660\n",
    "bass_model_true = BassModel()\n",
    "bass_model_true.params_ = {\'p\': p, \'q\': q, \'m\': m}\n",
    "y_data = bass_model_true.predict(t_data)\n",
    "y_data_noisy = y_data + np.random.normal(0, 10, size=len(t_data))\n",
    "y_data_noisy = np.maximum(0, y_data_noisy) # Ensure non-negative adoptions\n",
    "\n",
    "# Initialize the model and fitter\n",
    "bass_model = BassModel()\n",
    "fitter = ScipyFitter()\n",
    "\n",
    "# Fit the model to the noisy data\n",
    "fitter.fit(bass_model, t_data, y_data_noisy)\n",
    "\n",
    "print(f\"Estimated Parameters: {bass_model.params_}\")\n",
    "\n",
    "# Predict using the fitted model\n",
    "y_pred = bass_model.predict(t_data)\n",
    "\n",
    "# Plot the results\n",
    "plt.figure(figsize=(10, 6))\n",
    "plt.plot(t_data, y_data_noisy, 'o', label='Noisy Data')\n",
    "plt.plot(t_data, y_data, '-', label='True Curve')\n",
    "plt.plot(t_data, y_pred, '--', label='Fitted Curve')\n",
    "plt.title('Bass Model Fit')\n",
    "plt.xlabel('Time')\n",
    "plt.ylabel('Cumulative Adoptions')\n",
    "plt.legend()\n",
    "plt.grid(True)\n",
    "plt.show()"
   ]
  },
  {
   "cell_type": "markdown",
   "metadata": {},
   "source": [
    "## 2. Model Comparison and Evaluation"
   ]
  },
  {
   "cell_type": "code",
   "execution_count": null,
   "metadata": {},
   "outputs": [],
   "source": [
    "# Let's compare the performance of the Bass, Gompertz, and Logistic models on the same dataset.\n",
    "from innovate.diffuse.gompertz import GompertzModel\n",
    "from innovate.diffuse.logistic import LogisticModel\n",
    "from innovate.utils.model_evaluation import compare_models, find_best_model\n",
    "\n",
    "# Initialize all models\n",
    "bass_model = BassModel()\n",
    "gompertz_model = GompertzModel()\n",
    "logistic_model = LogisticModel()\n",
    "\n",
    "# Fit all models\n",
    "fitter = ScipyFitter()\n",
    "fitter.fit(bass_model, t_data, y_data_noisy)\n",
    "fitter.fit(gompertz_model, t_data, y_data_noisy)\n",
    "fitter.fit(logistic_model, t_data, y_data_noisy)\n",
    "\n",
    "# Create a dictionary of fitted models\n",
    "fitted_models = {\n",
    "    \"Bass\": bass_model,\n",
    "    \"Gompertz\": gompertz_model,\n",
    "    \"Logistic\": logistic_model\n",
    "}\n",
    "\n",
    "# Compare the models\n",
    "comparison_df = compare_models(fitted_models, t_data, y_data_noisy)\n",
    "print(\"--- Model Comparison ---\")\n",
    "print(comparison_df)\n",
    "\n",
    "# Find the best model (e.g., based on lowest RMSE)\n",
    "best_model_name, best_model_stats = find_best_model(comparison_df, metric='RMSE', minimize=True)\n",
    "print(f\"\\n--- Best Performing Model (based on RMSE) ---\")\n",
    "print(f\"Model: {best_model_name}\")\n",
    "print(f\"Stats: \\n{best_model_stats}\")\n",
    "\n",
    "# Find the best model based on R-squared (higher is better)\n",
    "best_model_r2, best_model_r2_stats = find_best_model(comparison_df, metric='R-squared', minimize=False)\n",
    "print(f\"\\n--- Best Performing Model (based on R-squared) ---\")\n",
    "print(f\"Model: {best_model_r2}\")\n",
    "print(f\"Stats: \\n{best_model_r2_stats}\")"
   ]
  }
 ],
 "metadata": {
  "kernelspec": {
   "display_name": "Python 3",
   "language": "python",
   "name": "python3"
  },
  "language_info": {
   "codemirror_mode": {
    "name": "ipython",
    "version": 3
   },
   "file_extension": ".py",
   "mimetype": "text/x-python",
   "name": "python",
   "nbconvert_exporter": "python",
   "pygments_lexer": "ipython3",
   "version": "3.10.4"
  }
 },
 "nbformat": 4,
 "nbformat_minor": 2
}