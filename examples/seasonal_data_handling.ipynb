{
 "cells": [
  {
   "cell_type": "markdown",
   "metadata": {},
   "source": [
    "# Handling Seasonal Data with `innovate`\n",
    "\n",
    "This notebook demonstrates how to handle time series data with seasonality when using the `innovate` library. We will use STL (Seasonal and Trend decomposition using Loess) to separate the trend component from the seasonal and residual components, and then fit a diffusion model to the extracted trend."
   ]
  },
  {
   "cell_type": "code",
   "execution_count": null,
   "metadata": {},
   "outputs": [],
   "source": [
    "import numpy as np\n",
    "import pandas as pd\n",
    "import matplotlib.pyplot as plt\n",
    "from innovate.preprocess import stl_decomposition\n",
    "from innovate.diffuse.logistic import LogisticModel\n",
    "from innovate.fitters.scipy_fitter import ScipyFitter\n",
    "from innovate.plots.comparison import plot_diffusion_curves"
   ]
  },
  {
   "cell_type": "markdown",
   "metadata": {},
   "source": [
    "## 1. Generate Synthetic Seasonal Data"
   ]
  },
  {
   "cell_type": "code",
   "execution_count": null,
   "metadata": {},
   "outputs": [],
   "source": [
    "dates = pd.date_range(start='2015-01-01', periods=120, freq='M')\n",
    "trend = 500 / (1 + np.exp(-0.1 * (np.arange(120) - 60)))\n",
    "seasonal = 50 * np.sin(np.linspace(0, 10 * 2 * np.pi, 120))\n",
    "noise = np.random.normal(0, 5, 120)\n",
    "seasonal_data = pd.Series(trend + seasonal + noise, index=dates, name='Adoptions')"
   ]
  },
  {
   "cell_type": "markdown",
   "metadata": {},
   "source": [
    "## 2. Decompose the Time Series using STL"
   ]
  },
  {
   "cell_type": "code",
   "execution_count": null,
   "metadata": {},
   "outputs": [],
   "source": [
    "decomposed = stl_decomposition(seasonal_data, period=12)\n",
    "\n",
    "fig, axes = plt.subplots(4, 1, figsize=(12, 10), sharex=True)\n",
    "seasonal_data.plot(ax=axes[0], title='Original Series')\n",
    "decomposed['trend'].plot(ax=axes[1], title='Trend')\n",
    "decomposed['seasonal'].plot(ax=axes[2], title='Seasonal')\n",
    "decomposed['residual'].plot(ax=axes[3], title='Residual')\n",
    "plt.tight_layout()\n",
    "plt.show()"
   ]
  },
  {
   "cell_type": "markdown",
   "metadata": {},
   "source": [
    "## 3. Fit a Diffusion Model to the Trend"
   ]
  },
  {
   "cell_type": "code",
   "execution_count": null,
   "metadata": {},
   "outputs": [],
   "source": [
    "trend_data = decomposed['trend']\n",
    "t = np.arange(len(trend_data))\n",
    "\n",
    "logistic_model = LogisticModel()\n",
    "fitter = ScipyFitter()\n",
    "fitter.fit(logistic_model, t, trend_data.values)\n",
    "\n",
    "print(\"Fitted Logistic Model Parameters:\", logistic_model.params_)"
   ]
  },
  {
   "cell_type": "markdown",
   "metadata": {},
   "source": [
    "## 4. Visualize the Fit"
   ]
  },
  {
   "cell_type": "code",
   "execution_count": null,
   "metadata": {},
   "outputs": [],
   "source": [
    "predictions = logistic_model.predict(t)\n",
    "\n",
    "plt.figure(figsize=(10, 6))\n",
    "plt.plot(t, trend_data.values, label='STL Trend')\n",
    "plt.plot(t, predictions, label='Fitted Logistic Model', linestyle='--')\n",
    "plt.title('Logistic Model Fit to Trend Component')\n",
    "plt.xlabel('Time')\n",
    "plt.ylabel('Cumulative Adoptions')\n",
    "plt.legend()\n",
    "plt.grid(True)\n",
    "plt.show()"
   ]
  }
 ],
 "metadata": {
  "kernelspec": {
   "display_name": "Python 3",
   "language": "python",
   "name": "python3"
  },
  "language_info": {
   "codemirror_mode": {
    "name": "ipython",
    "version": 3
   },
   "file_extension": ".py",
   "mimetype": "text/x-python",
   "name": "python",
   "nbconvert_exporter": "python",
   "pygments_lexer": "ipython3",
   "version": "3.12.11"
  }
 },
 "nbformat": 4,
 "nbformat_minor": 4
}